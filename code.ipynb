{
  "nbformat": 4,
  "nbformat_minor": 0,
  "metadata": {
    "colab": {
      "name": "Untitled",
      "provenance": []
    },
    "kernelspec": {
      "name": "python3",
      "display_name": "Python 3"
    },
    "accelerator": "GPU"
  },
  "cells": [
    {
      "cell_type": "code",
      "metadata": {
        "id": "eyfTtR6Z0WUr",
        "colab_type": "code",
        "colab": {}
      },
      "source": [
        "from __future__ import print_function\n",
        "import numpy\n",
        "import os\n",
        "import torch\n",
        "import torch.nn as nn\n",
        "import torch.nn.functional as F\n",
        "import torchvision\n",
        "import torch.optim as optim\n",
        "from torchvision.datasets import ImageFolder\n",
        "from PIL import Image\n",
        "import numpy as np\n",
        "from torchvision import datasets, transforms\n",
        "from torch.autograd import Variable"
      ],
      "execution_count": 0,
      "outputs": []
    },
    {
      "cell_type": "code",
      "metadata": {
        "id": "SFx5Gnda1a9k",
        "colab_type": "code",
        "colab": {}
      },
      "source": [
        "class Net(nn.Module):\n",
        "    \"\"\"ConvNet -> Max_Pool -> RELU -> ConvNet -> Max_Pool -> RELU -> FC -> RELU -> FC -> SOFTMAX\"\"\"\n",
        "    def __init__(self):\n",
        "        super(Net, self).__init__()\n",
        "        self.conv1 = nn.Conv2d(1, 20, 5, 1)\n",
        "        self.conv2 = nn.Conv2d(20, 50, 5, 1)\n",
        "        self.fc1 = nn.Linear(4*4*50, 500)\n",
        "        self.fc2 = nn.Linear(500, 10)\n",
        "\n",
        "    def forward(self, x):\n",
        "        x = F.relu(self.conv1(x))\n",
        "        x = F.max_pool2d(x, 2, 2)\n",
        "        x = F.relu(self.conv2(x))\n",
        "        x = F.max_pool2d(x, 2, 2)\n",
        "        x = x.view(-1, 4*4*50)\n",
        "        x = F.relu(self.fc1(x))\n",
        "        x = self.fc2(x)\n",
        "        return F.log_softmax(x, dim=1)\n"
      ],
      "execution_count": 0,
      "outputs": []
    },
    {
      "cell_type": "code",
      "metadata": {
        "id": "eS6c22cq49l1",
        "colab_type": "code",
        "colab": {}
      },
      "source": [
        "n_epochs = 3\n",
        "batch_size_train = 64\n",
        "batch_size_test = 1000\n",
        "learning_rate = 0.01\n",
        "momentum = 0.5\n",
        "log_interval = 10"
      ],
      "execution_count": 0,
      "outputs": []
    },
    {
      "cell_type": "code",
      "metadata": {
        "id": "zV1EnhYx1w93",
        "colab_type": "code",
        "colab": {}
      },
      "source": [
        "# transforms to apply to the data\n",
        "trans = transforms.Compose([transforms.ToTensor(), transforms.Normalize((0.1307,), (0.3081,))])\n",
        "\n",
        "# MNIST dataset\n",
        "train_loader = torch.utils.data.DataLoader(\n",
        "  torchvision.datasets.MNIST('/files/', train=True, download=True,\n",
        "                             transform=torchvision.transforms.Compose([\n",
        "                               torchvision.transforms.ToTensor(),\n",
        "                               torchvision.transforms.Normalize(\n",
        "                                 (0.1307,), (0.3081,))\n",
        "                             ])),\n",
        "  batch_size=batch_size_train, shuffle=True)\n",
        "\n",
        "test_loader = torch.utils.data.DataLoader(\n",
        "  torchvision.datasets.MNIST('/files/', train=False, download=True,\n",
        "                             transform=torchvision.transforms.Compose([\n",
        "                               torchvision.transforms.ToTensor(),\n",
        "                               torchvision.transforms.Normalize(\n",
        "                                 (0.1307,), (0.3081,))\n",
        "                             ])),\n",
        "  batch_size=batch_size_test, shuffle=True)"
      ],
      "execution_count": 0,
      "outputs": []
    },
    {
      "cell_type": "code",
      "metadata": {
        "id": "QR5o54hw4jg8",
        "colab_type": "code",
        "colab": {}
      },
      "source": [
        "examples = enumerate(test_loader)\n",
        "batch_idx, (example_data, example_targets) = next(examples)"
      ],
      "execution_count": 0,
      "outputs": []
    },
    {
      "cell_type": "code",
      "metadata": {
        "id": "5bW8EhJO5pOS",
        "colab_type": "code",
        "colab": {
          "base_uri": "https://localhost:8080/",
          "height": 35
        },
        "outputId": "04fbffe6-e2e2-40e7-fbab-84b5fa73c929"
      },
      "source": [
        "example_data.shape"
      ],
      "execution_count": 14,
      "outputs": [
        {
          "output_type": "execute_result",
          "data": {
            "text/plain": [
              "torch.Size([1000, 1, 28, 28])"
            ]
          },
          "metadata": {
            "tags": []
          },
          "execution_count": 14
        }
      ]
    },
    {
      "cell_type": "code",
      "metadata": {
        "id": "2W2xc1T35rQk",
        "colab_type": "code",
        "colab": {
          "base_uri": "https://localhost:8080/",
          "height": 551
        },
        "outputId": "6d09a5a9-9b0c-4f03-913e-3d7f3965c126"
      },
      "source": [
        "import matplotlib.pyplot as plt\n",
        "\n",
        "fig = plt.figure()\n",
        "for i in range(6):\n",
        "  plt.subplot(2,3,i+1)\n",
        "  plt.tight_layout()\n",
        "  plt.imshow(example_data[i][0], cmap='gray', interpolation='none')\n",
        "  plt.title(\"Ground Truth: {}\".format(example_targets[i]))\n",
        "  plt.xticks([])\n",
        "  plt.yticks([])\n",
        "fig"
      ],
      "execution_count": 15,
      "outputs": [
        {
          "output_type": "execute_result",
          "data": {
            "image/png": "[encoded data removed]",
            "text/plain": [
              "<Figure size 432x288 with 6 Axes>"
            ]
          },
          "metadata": {
            "tags": []
          },
          "execution_count": 15
        },
        {
          "output_type": "display_data",
          "data": {
            "image/png": "[encoded data removed]",
            "text/plain": [
              "<Figure size 432x288 with 6 Axes>"
            ]
          },
          "metadata": {
            "tags": []
          }
        }
      ]
    },
    {
      "cell_type": "code",
      "metadata": {
        "id": "ydXMolcO5wSz",
        "colab_type": "code",
        "colab": {}
      },
      "source": [
        "network = Net()\n",
        "optimizer = optim.SGD(network.parameters(), lr=learning_rate,\n",
        "                      momentum=momentum)"
      ],
      "execution_count": 0,
      "outputs": []
    },
    {
      "cell_type": "code",
      "metadata": {
        "id": "etjRfmXd6CYH",
        "colab_type": "code",
        "colab": {}
      },
      "source": [
        "train_losses = []\n",
        "train_counter = []\n",
        "test_losses = []\n",
        "test_counter = [i*len(train_loader.dataset) for i in range(n_epochs + 1)]"
      ],
      "execution_count": 0,
      "outputs": []
    },
    {
      "cell_type": "code",
      "metadata": {
        "id": "ilS-0c5o6Hg1",
        "colab_type": "code",
        "colab": {}
      },
      "source": [
        "def train(epoch):\n",
        "  network.train()\n",
        "  for batch_idx, (data, target) in enumerate(train_loader):\n",
        "    optimizer.zero_grad()\n",
        "    output = network(data)\n",
        "    loss = F.nll_loss(output, target)\n",
        "    loss.backward()\n",
        "    optimizer.step()\n",
        "    if batch_idx % log_interval == 0:\n",
        "      print('Train Epoch: {} [{}/{} ({:.0f}%)]\\tLoss: {:.6f}'.format(\n",
        "        epoch, batch_idx * len(data), len(train_loader.dataset),\n",
        "        100. * batch_idx / len(train_loader), loss.item()))\n",
        "      train_losses.append(loss.item())\n",
        "      train_counter.append(\n",
        "        (batch_idx*64) + ((epoch-1)*len(train_loader.dataset)))"
      ],
      "execution_count": 0,
      "outputs": []
    },
    {
      "cell_type": "code",
      "metadata": {
        "id": "LzxxFXZa6PS8",
        "colab_type": "code",
        "colab": {}
      },
      "source": [
        "def test():\n",
        "  network.eval()\n",
        "  test_loss = 0\n",
        "  correct = 0\n",
        "  with torch.no_grad():\n",
        "    for data, target in test_loader:\n",
        "      output = network(data)\n",
        "      test_loss += F.nll_loss(output, target, size_average=False).item()\n",
        "      pred = output.data.max(1, keepdim=True)[1]\n",
        "      correct += pred.eq(target.data.view_as(pred)).sum()\n",
        "  test_loss /= len(test_loader.dataset)\n",
        "  test_losses.append(test_loss)\n",
        "  test_counter.append(\n",
        "        (batch_idx*64) + ((epoch-1)*len(test_loader.dataset)))\n",
        "  print('\\nTest set: Avg. loss: {:.4f}, Accuracy: {}/{} ({:.0f}%)\\n'.format(\n",
        "    test_loss, correct, len(test_loader.dataset),\n",
        "    100. * correct / len(test_loader.dataset)))"
      ],
      "execution_count": 0,
      "outputs": []
    },
    {
      "cell_type": "code",
      "metadata": {
        "id": "spFae66c6VHr",
        "colab_type": "code",
        "colab": {
          "base_uri": "https://localhost:8080/",
          "height": 1000
        },
        "outputId": "22c677fd-f4f4-4c2a-8780-a9b9e7a8d9fc"
      },
      "source": [
        "for epoch in range(1, n_epochs + 1):\n",
        "  train(epoch)\n",
        "  test()"
      ],
      "execution_count": 33,
      "outputs": [
        {
          "output_type": "stream",
          "text": [
            "Train Epoch: 1 [0/60000 (0%)]\tLoss: 2.310855\n",
            "Train Epoch: 1 [640/60000 (1%)]\tLoss: 2.206359\n",
            "Train Epoch: 1 [1280/60000 (2%)]\tLoss: 2.120307\n",
            "Train Epoch: 1 [1920/60000 (3%)]\tLoss: 1.985732\n",
            "Train Epoch: 1 [2560/60000 (4%)]\tLoss: 1.673628\n",
            "Train Epoch: 1 [3200/60000 (5%)]\tLoss: 1.247760\n",
            "Train Epoch: 1 [3840/60000 (6%)]\tLoss: 0.817778\n",
            "Train Epoch: 1 [4480/60000 (7%)]\tLoss: 0.766310\n",
            "Train Epoch: 1 [5120/60000 (9%)]\tLoss: 0.997637\n",
            "Train Epoch: 1 [5760/60000 (10%)]\tLoss: 0.599685\n",
            "Train Epoch: 1 [6400/60000 (11%)]\tLoss: 0.358771\n",
            "Train Epoch: 1 [7040/60000 (12%)]\tLoss: 0.409205\n",
            "Train Epoch: 1 [7680/60000 (13%)]\tLoss: 0.516101\n",
            "Train Epoch: 1 [8320/60000 (14%)]\tLoss: 0.298008\n",
            "Train Epoch: 1 [8960/60000 (15%)]\tLoss: 0.357770\n",
            "Train Epoch: 1 [9600/60000 (16%)]\tLoss: 0.240900\n",
            "Train Epoch: 1 [10240/60000 (17%)]\tLoss: 0.461642\n",
            "Train Epoch: 1 [10880/60000 (18%)]\tLoss: 0.326171\n",
            "Train Epoch: 1 [11520/60000 (19%)]\tLoss: 0.335668\n",
            "Train Epoch: 1 [12160/60000 (20%)]\tLoss: 0.144333\n",
            "Train Epoch: 1 [12800/60000 (21%)]\tLoss: 0.351679\n",
            "Train Epoch: 1 [13440/60000 (22%)]\tLoss: 0.388734\n",
            "Train Epoch: 1 [14080/60000 (23%)]\tLoss: 0.171552\n",
            "Train Epoch: 1 [14720/60000 (25%)]\tLoss: 0.262996\n",
            "Train Epoch: 1 [15360/60000 (26%)]\tLoss: 0.529968\n",
            "Train Epoch: 1 [16000/60000 (27%)]\tLoss: 0.591021\n",
            "Train Epoch: 1 [16640/60000 (28%)]\tLoss: 0.159618\n",
            "Train Epoch: 1 [17280/60000 (29%)]\tLoss: 0.307422\n",
            "Train Epoch: 1 [17920/60000 (30%)]\tLoss: 0.376755\n",
            "Train Epoch: 1 [18560/60000 (31%)]\tLoss: 0.104806\n",
            "Train Epoch: 1 [19200/60000 (32%)]\tLoss: 0.351810\n",
            "Train Epoch: 1 [19840/60000 (33%)]\tLoss: 0.235662\n",
            "Train Epoch: 1 [20480/60000 (34%)]\tLoss: 0.257749\n",
            "Train Epoch: 1 [21120/60000 (35%)]\tLoss: 0.198710\n",
            "Train Epoch: 1 [21760/60000 (36%)]\tLoss: 0.231500\n",
            "Train Epoch: 1 [22400/60000 (37%)]\tLoss: 0.178086\n",
            "Train Epoch: 1 [23040/60000 (38%)]\tLoss: 0.259877\n",
            "Train Epoch: 1 [23680/60000 (39%)]\tLoss: 0.246063\n",
            "Train Epoch: 1 [24320/60000 (41%)]\tLoss: 0.126807\n",
            "Train Epoch: 1 [24960/60000 (42%)]\tLoss: 0.206219\n",
            "Train Epoch: 1 [25600/60000 (43%)]\tLoss: 0.232489\n",
            "Train Epoch: 1 [26240/60000 (44%)]\tLoss: 0.089501\n",
            "Train Epoch: 1 [26880/60000 (45%)]\tLoss: 0.316388\n",
            "Train Epoch: 1 [27520/60000 (46%)]\tLoss: 0.112044\n",
            "Train Epoch: 1 [28160/60000 (47%)]\tLoss: 0.106570\n",
            "Train Epoch: 1 [28800/60000 (48%)]\tLoss: 0.333787\n",
            "Train Epoch: 1 [29440/60000 (49%)]\tLoss: 0.273969\n",
            "Train Epoch: 1 [30080/60000 (50%)]\tLoss: 0.189365\n",
            "Train Epoch: 1 [30720/60000 (51%)]\tLoss: 0.128276\n",
            "Train Epoch: 1 [31360/60000 (52%)]\tLoss: 0.223026\n",
            "Train Epoch: 1 [32000/60000 (53%)]\tLoss: 0.151801\n",
            "Train Epoch: 1 [32640/60000 (54%)]\tLoss: 0.132554\n",
            "Train Epoch: 1 [33280/60000 (55%)]\tLoss: 0.200119\n",
            "Train Epoch: 1 [33920/60000 (57%)]\tLoss: 0.185571\n",
            "Train Epoch: 1 [34560/60000 (58%)]\tLoss: 0.059437\n",
            "Train Epoch: 1 [35200/60000 (59%)]\tLoss: 0.226724\n",
            "Train Epoch: 1 [35840/60000 (60%)]\tLoss: 0.131822\n",
            "Train Epoch: 1 [36480/60000 (61%)]\tLoss: 0.226667\n",
            "Train Epoch: 1 [37120/60000 (62%)]\tLoss: 0.274731\n",
            "Train Epoch: 1 [37760/60000 (63%)]\tLoss: 0.114740\n",
            "Train Epoch: 1 [38400/60000 (64%)]\tLoss: 0.151843\n",
            "Train Epoch: 1 [39040/60000 (65%)]\tLoss: 0.066878\n",
            "Train Epoch: 1 [39680/60000 (66%)]\tLoss: 0.097658\n",
            "Train Epoch: 1 [40320/60000 (67%)]\tLoss: 0.250822\n",
            "Train Epoch: 1 [40960/60000 (68%)]\tLoss: 0.178831\n",
            "Train Epoch: 1 [41600/60000 (69%)]\tLoss: 0.203086\n",
            "Train Epoch: 1 [42240/60000 (70%)]\tLoss: 0.107650\n",
            "Train Epoch: 1 [42880/60000 (71%)]\tLoss: 0.096860\n",
            "Train Epoch: 1 [43520/60000 (72%)]\tLoss: 0.235045\n",
            "Train Epoch: 1 [44160/60000 (74%)]\tLoss: 0.084569\n",
            "Train Epoch: 1 [44800/60000 (75%)]\tLoss: 0.280888\n",
            "Train Epoch: 1 [45440/60000 (76%)]\tLoss: 0.276047\n",
            "Train Epoch: 1 [46080/60000 (77%)]\tLoss: 0.118404\n",
            "Train Epoch: 1 [46720/60000 (78%)]\tLoss: 0.116276\n",
            "Train Epoch: 1 [47360/60000 (79%)]\tLoss: 0.064707\n",
            "Train Epoch: 1 [48000/60000 (80%)]\tLoss: 0.194240\n",
            "Train Epoch: 1 [48640/60000 (81%)]\tLoss: 0.170571\n",
            "Train Epoch: 1 [49280/60000 (82%)]\tLoss: 0.097094\n",
            "Train Epoch: 1 [49920/60000 (83%)]\tLoss: 0.120555\n",
            "Train Epoch: 1 [50560/60000 (84%)]\tLoss: 0.050296\n",
            "Train Epoch: 1 [51200/60000 (85%)]\tLoss: 0.102963\n",
            "Train Epoch: 1 [51840/60000 (86%)]\tLoss: 0.105506\n",
            "Train Epoch: 1 [52480/60000 (87%)]\tLoss: 0.125728\n",
            "Train Epoch: 1 [53120/60000 (88%)]\tLoss: 0.096799\n",
            "Train Epoch: 1 [53760/60000 (90%)]\tLoss: 0.097551\n",
            "Train Epoch: 1 [54400/60000 (91%)]\tLoss: 0.071270\n",
            "Train Epoch: 1 [55040/60000 (92%)]\tLoss: 0.106943\n",
            "Train Epoch: 1 [55680/60000 (93%)]\tLoss: 0.051153\n",
            "Train Epoch: 1 [56320/60000 (94%)]\tLoss: 0.086434\n",
            "Train Epoch: 1 [56960/60000 (95%)]\tLoss: 0.036107\n",
            "Train Epoch: 1 [57600/60000 (96%)]\tLoss: 0.101594\n",
            "Train Epoch: 1 [58240/60000 (97%)]\tLoss: 0.091139\n",
            "Train Epoch: 1 [58880/60000 (98%)]\tLoss: 0.041220\n",
            "Train Epoch: 1 [59520/60000 (99%)]\tLoss: 0.133219\n"
          ],
          "name": "stdout"
        },
        {
          "output_type": "stream",
          "text": [
            "/usr/local/lib/python3.6/dist-packages/torch/nn/_reduction.py:43: UserWarning: size_average and reduce args will be deprecated, please use reduction='sum' instead.\n",
            "  warnings.warn(warning.format(ret))\n"
          ],
          "name": "stderr"
        },
        {
          "output_type": "stream",
          "text": [
            "\n",
            "Test set: Avg. loss: 0.1064, Accuracy: 9673/10000 (97%)\n",
            "\n",
            "Train Epoch: 2 [0/60000 (0%)]\tLoss: 0.214084\n",
            "Train Epoch: 2 [640/60000 (1%)]\tLoss: 0.109692\n",
            "Train Epoch: 2 [1280/60000 (2%)]\tLoss: 0.119285\n",
            "Train Epoch: 2 [1920/60000 (3%)]\tLoss: 0.111159\n",
            "Train Epoch: 2 [2560/60000 (4%)]\tLoss: 0.023155\n",
            "Train Epoch: 2 [3200/60000 (5%)]\tLoss: 0.097425\n",
            "Train Epoch: 2 [3840/60000 (6%)]\tLoss: 0.048231\n",
            "Train Epoch: 2 [4480/60000 (7%)]\tLoss: 0.199295\n",
            "Train Epoch: 2 [5120/60000 (9%)]\tLoss: 0.277890\n",
            "Train Epoch: 2 [5760/60000 (10%)]\tLoss: 0.037070\n",
            "Train Epoch: 2 [6400/60000 (11%)]\tLoss: 0.266731\n",
            "Train Epoch: 2 [7040/60000 (12%)]\tLoss: 0.187291\n",
            "Train Epoch: 2 [7680/60000 (13%)]\tLoss: 0.033346\n",
            "Train Epoch: 2 [8320/60000 (14%)]\tLoss: 0.117292\n",
            "Train Epoch: 2 [8960/60000 (15%)]\tLoss: 0.100574\n",
            "Train Epoch: 2 [9600/60000 (16%)]\tLoss: 0.090587\n",
            "Train Epoch: 2 [10240/60000 (17%)]\tLoss: 0.090499\n",
            "Train Epoch: 2 [10880/60000 (18%)]\tLoss: 0.039333\n",
            "Train Epoch: 2 [11520/60000 (19%)]\tLoss: 0.033169\n",
            "Train Epoch: 2 [12160/60000 (20%)]\tLoss: 0.032913\n",
            "Train Epoch: 2 [12800/60000 (21%)]\tLoss: 0.074048\n",
            "Train Epoch: 2 [13440/60000 (22%)]\tLoss: 0.031329\n",
            "Train Epoch: 2 [14080/60000 (23%)]\tLoss: 0.061901\n",
            "Train Epoch: 2 [14720/60000 (25%)]\tLoss: 0.058225\n",
            "Train Epoch: 2 [15360/60000 (26%)]\tLoss: 0.023618\n",
            "Train Epoch: 2 [16000/60000 (27%)]\tLoss: 0.199213\n",
            "Train Epoch: 2 [16640/60000 (28%)]\tLoss: 0.050102\n",
            "Train Epoch: 2 [17280/60000 (29%)]\tLoss: 0.073742\n",
            "Train Epoch: 2 [17920/60000 (30%)]\tLoss: 0.037645\n",
            "Train Epoch: 2 [18560/60000 (31%)]\tLoss: 0.047471\n",
            "Train Epoch: 2 [19200/60000 (32%)]\tLoss: 0.045061\n",
            "Train Epoch: 2 [19840/60000 (33%)]\tLoss: 0.136550\n",
            "Train Epoch: 2 [20480/60000 (34%)]\tLoss: 0.080620\n",
            "Train Epoch: 2 [21120/60000 (35%)]\tLoss: 0.077026\n",
            "Train Epoch: 2 [21760/60000 (36%)]\tLoss: 0.095062\n",
            "Train Epoch: 2 [22400/60000 (37%)]\tLoss: 0.015386\n",
            "Train Epoch: 2 [23040/60000 (38%)]\tLoss: 0.102454\n",
            "Train Epoch: 2 [23680/60000 (39%)]\tLoss: 0.032259\n",
            "Train Epoch: 2 [24320/60000 (41%)]\tLoss: 0.127450\n",
            "Train Epoch: 2 [24960/60000 (42%)]\tLoss: 0.112578\n",
            "Train Epoch: 2 [25600/60000 (43%)]\tLoss: 0.015848\n",
            "Train Epoch: 2 [26240/60000 (44%)]\tLoss: 0.068399\n",
            "Train Epoch: 2 [26880/60000 (45%)]\tLoss: 0.063020\n",
            "Train Epoch: 2 [27520/60000 (46%)]\tLoss: 0.097264\n",
            "Train Epoch: 2 [28160/60000 (47%)]\tLoss: 0.119929\n",
            "Train Epoch: 2 [28800/60000 (48%)]\tLoss: 0.013348\n",
            "Train Epoch: 2 [29440/60000 (49%)]\tLoss: 0.151487\n",
            "Train Epoch: 2 [30080/60000 (50%)]\tLoss: 0.052985\n",
            "Train Epoch: 2 [30720/60000 (51%)]\tLoss: 0.067163\n",
            "Train Epoch: 2 [31360/60000 (52%)]\tLoss: 0.071115\n",
            "Train Epoch: 2 [32000/60000 (53%)]\tLoss: 0.092928\n",
            "Train Epoch: 2 [32640/60000 (54%)]\tLoss: 0.026810\n",
            "Train Epoch: 2 [33280/60000 (55%)]\tLoss: 0.093187\n",
            "Train Epoch: 2 [33920/60000 (57%)]\tLoss: 0.053021\n",
            "Train Epoch: 2 [34560/60000 (58%)]\tLoss: 0.051747\n",
            "Train Epoch: 2 [35200/60000 (59%)]\tLoss: 0.058342\n",
            "Train Epoch: 2 [35840/60000 (60%)]\tLoss: 0.117576\n",
            "Train Epoch: 2 [36480/60000 (61%)]\tLoss: 0.131607\n",
            "Train Epoch: 2 [37120/60000 (62%)]\tLoss: 0.036408\n",
            "Train Epoch: 2 [37760/60000 (63%)]\tLoss: 0.089881\n",
            "Train Epoch: 2 [38400/60000 (64%)]\tLoss: 0.059957\n",
            "Train Epoch: 2 [39040/60000 (65%)]\tLoss: 0.086747\n",
            "Train Epoch: 2 [39680/60000 (66%)]\tLoss: 0.029671\n",
            "Train Epoch: 2 [40320/60000 (67%)]\tLoss: 0.064613\n",
            "Train Epoch: 2 [40960/60000 (68%)]\tLoss: 0.021313\n",
            "Train Epoch: 2 [41600/60000 (69%)]\tLoss: 0.183560\n",
            "Train Epoch: 2 [42240/60000 (70%)]\tLoss: 0.061396\n",
            "Train Epoch: 2 [42880/60000 (71%)]\tLoss: 0.042505\n",
            "Train Epoch: 2 [43520/60000 (72%)]\tLoss: 0.019325\n",
            "Train Epoch: 2 [44160/60000 (74%)]\tLoss: 0.097134\n",
            "Train Epoch: 2 [44800/60000 (75%)]\tLoss: 0.031052\n",
            "Train Epoch: 2 [45440/60000 (76%)]\tLoss: 0.193767\n",
            "Train Epoch: 2 [46080/60000 (77%)]\tLoss: 0.051552\n",
            "Train Epoch: 2 [46720/60000 (78%)]\tLoss: 0.067912\n",
            "Train Epoch: 2 [47360/60000 (79%)]\tLoss: 0.073898\n",
            "Train Epoch: 2 [48000/60000 (80%)]\tLoss: 0.032970\n",
            "Train Epoch: 2 [48640/60000 (81%)]\tLoss: 0.112129\n",
            "Train Epoch: 2 [49280/60000 (82%)]\tLoss: 0.028626\n",
            "Train Epoch: 2 [49920/60000 (83%)]\tLoss: 0.046286\n",
            "Train Epoch: 2 [50560/60000 (84%)]\tLoss: 0.086754\n",
            "Train Epoch: 2 [51200/60000 (85%)]\tLoss: 0.026654\n",
            "Train Epoch: 2 [51840/60000 (86%)]\tLoss: 0.067474\n",
            "Train Epoch: 2 [52480/60000 (87%)]\tLoss: 0.024875\n",
            "Train Epoch: 2 [53120/60000 (88%)]\tLoss: 0.095585\n",
            "Train Epoch: 2 [53760/60000 (90%)]\tLoss: 0.071576\n",
            "Train Epoch: 2 [54400/60000 (91%)]\tLoss: 0.028809\n",
            "Train Epoch: 2 [55040/60000 (92%)]\tLoss: 0.027342\n",
            "Train Epoch: 2 [55680/60000 (93%)]\tLoss: 0.051067\n",
            "Train Epoch: 2 [56320/60000 (94%)]\tLoss: 0.070699\n",
            "Train Epoch: 2 [56960/60000 (95%)]\tLoss: 0.136548\n",
            "Train Epoch: 2 [57600/60000 (96%)]\tLoss: 0.135160\n",
            "Train Epoch: 2 [58240/60000 (97%)]\tLoss: 0.029013\n",
            "Train Epoch: 2 [58880/60000 (98%)]\tLoss: 0.065060\n",
            "Train Epoch: 2 [59520/60000 (99%)]\tLoss: 0.064150\n",
            "\n",
            "Test set: Avg. loss: 0.0669, Accuracy: 9790/10000 (98%)\n",
            "\n",
            "Train Epoch: 3 [0/60000 (0%)]\tLoss: 0.019365\n",
            "Train Epoch: 3 [640/60000 (1%)]\tLoss: 0.084586\n",
            "Train Epoch: 3 [1280/60000 (2%)]\tLoss: 0.041849\n",
            "Train Epoch: 3 [1920/60000 (3%)]\tLoss: 0.017904\n",
            "Train Epoch: 3 [2560/60000 (4%)]\tLoss: 0.104504\n",
            "Train Epoch: 3 [3200/60000 (5%)]\tLoss: 0.033977\n",
            "Train Epoch: 3 [3840/60000 (6%)]\tLoss: 0.157765\n",
            "Train Epoch: 3 [4480/60000 (7%)]\tLoss: 0.011631\n",
            "Train Epoch: 3 [5120/60000 (9%)]\tLoss: 0.059764\n",
            "Train Epoch: 3 [5760/60000 (10%)]\tLoss: 0.091724\n",
            "Train Epoch: 3 [6400/60000 (11%)]\tLoss: 0.076327\n",
            "Train Epoch: 3 [7040/60000 (12%)]\tLoss: 0.025404\n",
            "Train Epoch: 3 [7680/60000 (13%)]\tLoss: 0.162485\n",
            "Train Epoch: 3 [8320/60000 (14%)]\tLoss: 0.034055\n",
            "Train Epoch: 3 [8960/60000 (15%)]\tLoss: 0.104586\n",
            "Train Epoch: 3 [9600/60000 (16%)]\tLoss: 0.064139\n",
            "Train Epoch: 3 [10240/60000 (17%)]\tLoss: 0.041247\n",
            "Train Epoch: 3 [10880/60000 (18%)]\tLoss: 0.032766\n",
            "Train Epoch: 3 [11520/60000 (19%)]\tLoss: 0.099660\n",
            "Train Epoch: 3 [12160/60000 (20%)]\tLoss: 0.033720\n",
            "Train Epoch: 3 [12800/60000 (21%)]\tLoss: 0.021732\n",
            "Train Epoch: 3 [13440/60000 (22%)]\tLoss: 0.041854\n",
            "Train Epoch: 3 [14080/60000 (23%)]\tLoss: 0.059268\n",
            "Train Epoch: 3 [14720/60000 (25%)]\tLoss: 0.150429\n",
            "Train Epoch: 3 [15360/60000 (26%)]\tLoss: 0.061275\n",
            "Train Epoch: 3 [16000/60000 (27%)]\tLoss: 0.022742\n",
            "Train Epoch: 3 [16640/60000 (28%)]\tLoss: 0.116110\n",
            "Train Epoch: 3 [17280/60000 (29%)]\tLoss: 0.051311\n",
            "Train Epoch: 3 [17920/60000 (30%)]\tLoss: 0.009745\n",
            "Train Epoch: 3 [18560/60000 (31%)]\tLoss: 0.007305\n",
            "Train Epoch: 3 [19200/60000 (32%)]\tLoss: 0.054183\n",
            "Train Epoch: 3 [19840/60000 (33%)]\tLoss: 0.018645\n",
            "Train Epoch: 3 [20480/60000 (34%)]\tLoss: 0.043642\n",
            "Train Epoch: 3 [21120/60000 (35%)]\tLoss: 0.034120\n",
            "Train Epoch: 3 [21760/60000 (36%)]\tLoss: 0.059338\n",
            "Train Epoch: 3 [22400/60000 (37%)]\tLoss: 0.125030\n",
            "Train Epoch: 3 [23040/60000 (38%)]\tLoss: 0.005986\n",
            "Train Epoch: 3 [23680/60000 (39%)]\tLoss: 0.051587\n",
            "Train Epoch: 3 [24320/60000 (41%)]\tLoss: 0.271373\n",
            "Train Epoch: 3 [24960/60000 (42%)]\tLoss: 0.065994\n",
            "Train Epoch: 3 [25600/60000 (43%)]\tLoss: 0.004433\n",
            "Train Epoch: 3 [26240/60000 (44%)]\tLoss: 0.115041\n",
            "Train Epoch: 3 [26880/60000 (45%)]\tLoss: 0.023126\n",
            "Train Epoch: 3 [27520/60000 (46%)]\tLoss: 0.009208\n",
            "Train Epoch: 3 [28160/60000 (47%)]\tLoss: 0.112350\n",
            "Train Epoch: 3 [28800/60000 (48%)]\tLoss: 0.051841\n",
            "Train Epoch: 3 [29440/60000 (49%)]\tLoss: 0.065479\n",
            "Train Epoch: 3 [30080/60000 (50%)]\tLoss: 0.020055\n",
            "Train Epoch: 3 [30720/60000 (51%)]\tLoss: 0.052522\n",
            "Train Epoch: 3 [31360/60000 (52%)]\tLoss: 0.010423\n",
            "Train Epoch: 3 [32000/60000 (53%)]\tLoss: 0.075472\n",
            "Train Epoch: 3 [32640/60000 (54%)]\tLoss: 0.056976\n",
            "Train Epoch: 3 [33280/60000 (55%)]\tLoss: 0.039061\n",
            "Train Epoch: 3 [33920/60000 (57%)]\tLoss: 0.136989\n",
            "Train Epoch: 3 [34560/60000 (58%)]\tLoss: 0.017615\n",
            "Train Epoch: 3 [35200/60000 (59%)]\tLoss: 0.009527\n",
            "Train Epoch: 3 [35840/60000 (60%)]\tLoss: 0.098045\n",
            "Train Epoch: 3 [36480/60000 (61%)]\tLoss: 0.011924\n",
            "Train Epoch: 3 [37120/60000 (62%)]\tLoss: 0.057531\n",
            "Train Epoch: 3 [37760/60000 (63%)]\tLoss: 0.040852\n",
            "Train Epoch: 3 [38400/60000 (64%)]\tLoss: 0.023610\n",
            "Train Epoch: 3 [39040/60000 (65%)]\tLoss: 0.039223\n",
            "Train Epoch: 3 [39680/60000 (66%)]\tLoss: 0.071217\n",
            "Train Epoch: 3 [40320/60000 (67%)]\tLoss: 0.022784\n",
            "Train Epoch: 3 [40960/60000 (68%)]\tLoss: 0.126348\n",
            "Train Epoch: 3 [41600/60000 (69%)]\tLoss: 0.035501\n",
            "Train Epoch: 3 [42240/60000 (70%)]\tLoss: 0.081229\n",
            "Train Epoch: 3 [42880/60000 (71%)]\tLoss: 0.065004\n",
            "Train Epoch: 3 [43520/60000 (72%)]\tLoss: 0.119172\n",
            "Train Epoch: 3 [44160/60000 (74%)]\tLoss: 0.023384\n",
            "Train Epoch: 3 [44800/60000 (75%)]\tLoss: 0.056586\n",
            "Train Epoch: 3 [45440/60000 (76%)]\tLoss: 0.044284\n",
            "Train Epoch: 3 [46080/60000 (77%)]\tLoss: 0.036865\n",
            "Train Epoch: 3 [46720/60000 (78%)]\tLoss: 0.029279\n",
            "Train Epoch: 3 [47360/60000 (79%)]\tLoss: 0.033591\n",
            "Train Epoch: 3 [48000/60000 (80%)]\tLoss: 0.067140\n",
            "Train Epoch: 3 [48640/60000 (81%)]\tLoss: 0.038514\n",
            "Train Epoch: 3 [49280/60000 (82%)]\tLoss: 0.032549\n",
            "Train Epoch: 3 [49920/60000 (83%)]\tLoss: 0.016983\n",
            "Train Epoch: 3 [50560/60000 (84%)]\tLoss: 0.091210\n",
            "Train Epoch: 3 [51200/60000 (85%)]\tLoss: 0.122593\n",
            "Train Epoch: 3 [51840/60000 (86%)]\tLoss: 0.009746\n",
            "Train Epoch: 3 [52480/60000 (87%)]\tLoss: 0.084540\n",
            "Train Epoch: 3 [53120/60000 (88%)]\tLoss: 0.022075\n",
            "Train Epoch: 3 [53760/60000 (90%)]\tLoss: 0.067618\n",
            "Train Epoch: 3 [54400/60000 (91%)]\tLoss: 0.025860\n",
            "Train Epoch: 3 [55040/60000 (92%)]\tLoss: 0.026415\n",
            "Train Epoch: 3 [55680/60000 (93%)]\tLoss: 0.122953\n",
            "Train Epoch: 3 [56320/60000 (94%)]\tLoss: 0.013816\n",
            "Train Epoch: 3 [56960/60000 (95%)]\tLoss: 0.013046\n",
            "Train Epoch: 3 [57600/60000 (96%)]\tLoss: 0.044860\n",
            "Train Epoch: 3 [58240/60000 (97%)]\tLoss: 0.071222\n",
            "Train Epoch: 3 [58880/60000 (98%)]\tLoss: 0.027731\n",
            "Train Epoch: 3 [59520/60000 (99%)]\tLoss: 0.047090\n",
            "\n",
            "Test set: Avg. loss: 0.0462, Accuracy: 9851/10000 (99%)\n",
            "\n"
          ],
          "name": "stdout"
        }
      ]
    },
    {
      "cell_type": "code",
      "metadata": {
        "id": "pjmztxHY6XpE",
        "colab_type": "code",
        "colab": {
          "base_uri": "https://localhost:8080/",
          "height": 541
        },
        "outputId": "c12967aa-134c-46d6-dc49-bb741e63fff5"
      },
      "source": [
        "fig = plt.figure()\n",
        "plt.plot(train_counter, train_losses, color='blue')\n",
        "\n",
        "plt.legend(['Train Loss', 'Test Loss'], loc='upper right')\n",
        "plt.xlabel('number of training examples seen')\n",
        "plt.ylabel('negative log likelihood loss')\n",
        "fig"
      ],
      "execution_count": 35,
      "outputs": [
        {
          "output_type": "execute_result",
          "data": {
            "image/png": "[encoded data removed]",
            "text/plain": [
              "<Figure size 432x288 with 1 Axes>"
            ]
          },
          "metadata": {
            "tags": []
          },
          "execution_count": 35
        },
        {
          "output_type": "display_data",
          "data": {
            "image/png": "[encoded data removed]",
            "text/plain": [
              "<Figure size 432x288 with 1 Axes>"
            ]
          },
          "metadata": {
            "tags": []
          }
        }
      ]
    },
    {
      "cell_type": "code",
      "metadata": {
        "id": "GS59whbp8DaA",
        "colab_type": "code",
        "colab": {}
      },
      "source": [
        "with torch.no_grad():\n",
        "  output = network(example_data)"
      ],
      "execution_count": 0,
      "outputs": []
    },
    {
      "cell_type": "code",
      "metadata": {
        "id": "NkitMzx696D0",
        "colab_type": "code",
        "colab": {
          "base_uri": "https://localhost:8080/",
          "height": 551
        },
        "outputId": "f0b3a1d5-2ae5-4a3a-8ff4-00dfcb92dc7f"
      },
      "source": [
        "fig = plt.figure()\n",
        "for i in range(6):\n",
        "  plt.subplot(2,3,i+1)\n",
        "  plt.tight_layout()\n",
        "  plt.imshow(example_data[i][0], cmap='gray', interpolation='none')\n",
        "  plt.title(\"Prediction: {}\".format(\n",
        "    output.data.max(1, keepdim=True)[1][i].item()))\n",
        "  plt.xticks([])\n",
        "  plt.yticks([])\n",
        "fig"
      ],
      "execution_count": 37,
      "outputs": [
        {
          "output_type": "execute_result",
          "data": {
            "image/png": "[encoded data removed]",
            "text/plain": [
              "<Figure size 432x288 with 6 Axes>"
            ]
          },
          "metadata": {
            "tags": []
          },
          "execution_count": 37
        },
        {
          "output_type": "display_data",
          "data": {
            "image/png": "[encoded data removed]",
            "text/plain": [
              "<Figure size 432x288 with 6 Axes>"
            ]
          },
          "metadata": {
            "tags": []
          }
        }
      ]
    },
    {
      "cell_type": "code",
      "metadata": {
        "id": "vOP9cVSV98OL",
        "colab_type": "code",
        "colab": {}
      },
      "source": [
        ""
      ],
      "execution_count": 0,
      "outputs": []
    }
  ]
}